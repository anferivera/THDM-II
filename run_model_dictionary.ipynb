{
 "cells": [
  {
   "cell_type": "markdown",
   "metadata": {},
   "source": [
    "# Run THDM-II model: build dictionary"
   ]
  },
  {
   "cell_type": "markdown",
   "metadata": {},
   "source": [
    "The idea is to create the Leshouches for each point"
   ]
  },
  {
   "cell_type": "code",
   "execution_count": 1,
   "metadata": {},
   "outputs": [],
   "source": [
    "import numpy as np\n",
    "import pandas as pd\n",
    "import subprocess\n",
    "import time\n",
    "\n",
    "%matplotlib inline\n",
    "import matplotlib.pyplot as plt "
   ]
  },
  {
   "cell_type": "code",
   "execution_count": 2,
   "metadata": {},
   "outputs": [],
   "source": [
    "import pyslha\n",
    "import pyTHDM_LesHouches_generator\n",
    "import sys"
   ]
  },
  {
   "cell_type": "code",
   "execution_count": 3,
   "metadata": {},
   "outputs": [],
   "source": [
    "\n",
    "\n",
    "#Open the file that will created the LesHouches file\n",
    "xdict = pyTHDM_LesHouches_generator.buildSLHAinFile()\n",
    "\n",
    "L1 = 0.19\n",
    "\n",
    "#Modify one parameter\n",
    "xdict.blocks['MINPAR'].entries[1]='%.6E    # Lambda1Input'%L1\n",
    "\n",
    "#Write and created the Leshouches file generator\n",
    "pyslha.writeSLHAFile('LesHouches.in.THDMII_low',xdict)  \n",
    "\n",
    "file = subprocess.getoutput('cat LesHouches.in.THDMII_low')"
   ]
  },
  {
   "cell_type": "code",
   "execution_count": 4,
   "metadata": {},
   "outputs": [
    {
     "data": {
      "text/plain": [
       "['BLOCK MODSEL',\n",
       " '   1   0               #  1/0: High/low scale input',\n",
       " '   2   1              # Boundary Condition',\n",
       " '   6   1               # Generation Mixing',\n",
       " '   12   173.5          # Renormalization scale',\n",
       " '',\n",
       " 'BLOCK SMINPUTS',\n",
       " '   2   1.166370E-05    # G_F,Fermi constantt',\n",
       " '   3   1.187000E-01    # alpha_s(MZ) SM MSbar',\n",
       " '   4   9.118870E+01    # Z-boson pole mass',\n",
       " '   5   4.180000E+00    # m_b(mb) SM MSbar',\n",
       " '   6   1.735000E+02    # m_top(pole)',\n",
       " '   7   1.776690E+00    # m_tau(pole)',\n",
       " '',\n",
       " 'BLOCK MINPAR',\n",
       " '   1   1.900000E-01    # Lambda1Input',\n",
       " '   2   2.7000000E-01    # Lambda2Input',\n",
       " '   3   1.1000000E+00    # Lambda3Input',\n",
       " '   4   -5.0000000E-01    # Lambda4Input',\n",
       " '   5   5.0000000E-01    # Lambda5Input',\n",
       " '   9   -5.0000000E+03    # M12input',\n",
       " '   10   5.1000000E+01    # TanBeta',\n",
       " '',\n",
       " 'BLOCK SPHENOINPUT',\n",
       " '   1   -1              # error level',\n",
       " '   2   0              # SPA conventions',\n",
       " '   7   1              # Skip 2-loop Higgs corrections',\n",
       " '   8   3              # Method used for two-loop calculation',\n",
       " '   9   1              # Gaugeless limit used at two-loop',\n",
       " '   10   0              # safe-mode used at two-loop',\n",
       " '   11   1               # calculate branching ratios',\n",
       " '   13   1               # 3-Body decays: none (0), fermion (1), scalar (2), both (3)',\n",
       " '   14   0               # Run couplings to scale of decaying particle',\n",
       " '   12   1.000E-04       # write only branching ratios larger than this value',\n",
       " '   15   1.000E-30       # write only decay if width larger than this value',\n",
       " '   16   1              # One-loop decays',\n",
       " '   19   -2              # Matching order (-2:automatic, -1:pole, 0-2: tree, one- & two-loop)',\n",
       " '   31   -1              # fixed GUT scale (-1: dynamical GUT scale)',\n",
       " '   32   0               # Strict unification',\n",
       " '   34   1.000E-04       # Precision of mass calculation',\n",
       " '   35   40              # Maximal number of iterations',\n",
       " '   36   5               # Minimal number of iterations before discarding points',\n",
       " '   37   1               # Set Yukawa scheme',\n",
       " '   38   1               # 1- or 2-Loop RGEs',\n",
       " '   50   1               # Majorana phases: use only positive masses (put 0 to use file with CalcHep/Micromegas!)',\n",
       " '   51   0               # Write Output in CKM basis',\n",
       " '   52   0               # Write spectrum in case of tachyonic states',\n",
       " '   55   0               # Calculate loop corrected masses',\n",
       " '   57   1               # Calculate low energy constraints',\n",
       " '   65   1               # Solution tadpole equation',\n",
       " '   66   1               # Two-Scale Matching',\n",
       " '   67   1               # effective Higgs mass calculation',\n",
       " '   75   0               # Write WHIZARD files',\n",
       " '   76   2               # Write HiggsBounds file: 2 for HiggsBounds5, 1 for HiggsBounds4 and below',\n",
       " '   77   0               # Output for MicrOmegas (running masses for light quarks; real mixing matrices)',\n",
       " '   78   0               # Output for MadGraph (writes also vanishing blocks)',\n",
       " '   79   0               # Write WCXF files (exchange format for Wilson coefficients)',\n",
       " '   86   0.              # Maximal width to be counted as invisible in Higgs decays; -1: only LSP',\n",
       " '   440   1               # Tree-level unitarity constraints (limit s->infinity)',\n",
       " '   441   1               # Full tree-level unitarity constraints',\n",
       " '   442   1000.           # sqrt(s_min)',\n",
       " '   443   2000.           # sqrt(s_max)',\n",
       " '   444   5               # steps',\n",
       " '   445   0               # running',\n",
       " '   510   0.              # Write tree level values for tadpole solutions',\n",
       " '   515   0               # Write parameter values at GUT scale',\n",
       " '   520   1.              # Write effective Higgs couplings (HiggsBounds blocks): put 0 to use file with MadGraph!',\n",
       " '   521   1.              # Diphoton/Digluon widths including higher order',\n",
       " '   525   0.              # Write loop contributions to diphoton decay of Higgs',\n",
       " '   530   0.              # Write Blocks for Vevacious',\n",
       " '',\n",
       " 'BLOCK DECAYOPTIONS',\n",
       " '   1   1     # Calc 3-Body decays of Fu',\n",
       " '   2   1     # Calc 3-Body decays of Fe',\n",
       " '   3   1     # Calc 3-Body decays of Fd',\n",
       " '   1001   1     # Loop Decay of Fu',\n",
       " '   1002   1     # Loop Decay of Fe',\n",
       " '   1003   1     # Loop Decay of Fd',\n",
       " '   1004   1     # Loop Decay of hh',\n",
       " '   1005   1     # Loop Decay of Ah',\n",
       " '   1006   1     # Loop Decay of Hm',\n",
       " '   1114   1.     # U-factors (0: off, 1:p2_i=m2_i, 2:p2=0, p3:p2_i=m2_1)',\n",
       " '   1115   1.     # Use loop-corrected masses for external states',\n",
       " '   1116   0.     # OS values for W,Z and fermions (0: off, 1:g1,g2,v 2:g1,g2,v,Y_i)',\n",
       " '   1117   0.     # Use defined counter-terms',\n",
       " '   1118   1.     # Use everywhere loop-corrected masses for loop-induced decays']"
      ]
     },
     "execution_count": 4,
     "metadata": {},
     "output_type": "execute_result"
    }
   ],
   "source": [
    "file.splitlines()"
   ]
  },
  {
   "cell_type": "code",
   "execution_count": null,
   "metadata": {},
   "outputs": [],
   "source": []
  },
  {
   "cell_type": "code",
   "execution_count": null,
   "metadata": {},
   "outputs": [],
   "source": []
  },
  {
   "cell_type": "code",
   "execution_count": null,
   "metadata": {},
   "outputs": [],
   "source": []
  },
  {
   "cell_type": "code",
   "execution_count": null,
   "metadata": {},
   "outputs": [],
   "source": []
  },
  {
   "cell_type": "code",
   "execution_count": null,
   "metadata": {},
   "outputs": [],
   "source": []
  }
 ],
 "metadata": {
  "kernelspec": {
   "display_name": "Python 3",
   "language": "python",
   "name": "python3"
  },
  "language_info": {
   "codemirror_mode": {
    "name": "ipython",
    "version": 3
   },
   "file_extension": ".py",
   "mimetype": "text/x-python",
   "name": "python",
   "nbconvert_exporter": "python",
   "pygments_lexer": "ipython3",
   "version": "3.5.3"
  }
 },
 "nbformat": 4,
 "nbformat_minor": 1
}

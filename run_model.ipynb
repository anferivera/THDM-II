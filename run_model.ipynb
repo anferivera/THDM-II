{
 "cells": [
  {
   "cell_type": "markdown",
   "metadata": {},
   "source": [
    "# run THDM-II model"
   ]
  },
  {
   "cell_type": "markdown",
   "metadata": {},
   "source": [
    "The idea is run the model"
   ]
  },
  {
   "cell_type": "code",
   "execution_count": 1,
   "metadata": {},
   "outputs": [],
   "source": [
    "import numpy as np\n",
    "import pandas as pd\n",
    "import subprocess\n",
    "import time\n",
    "\n",
    "%matplotlib inline\n",
    "import matplotlib.pyplot as plt "
   ]
  },
  {
   "cell_type": "markdown",
   "metadata": {},
   "source": [
    "Read Fredy data:"
   ]
  },
  {
   "cell_type": "code",
   "execution_count": 2,
   "metadata": {},
   "outputs": [],
   "source": [
    "xd0 = pd.read_csv('data.txt')"
   ]
  },
  {
   "cell_type": "code",
   "execution_count": 10,
   "metadata": {},
   "outputs": [
    {
     "data": {
      "text/html": [
       "<div>\n",
       "<table border=\"1\" class=\"dataframe\">\n",
       "  <thead>\n",
       "    <tr style=\"text-align: right;\">\n",
       "      <th></th>\n",
       "      <th>L1</th>\n",
       "      <th>L2</th>\n",
       "      <th>L3</th>\n",
       "      <th>L4</th>\n",
       "      <th>L5</th>\n",
       "      <th>M12</th>\n",
       "    </tr>\n",
       "  </thead>\n",
       "  <tbody>\n",
       "    <tr>\n",
       "      <th>0</th>\n",
       "      <td>0.163834</td>\n",
       "      <td>0.307072</td>\n",
       "      <td>0.126198</td>\n",
       "      <td>-0.35795</td>\n",
       "      <td>-0.207587</td>\n",
       "      <td>-173780.0</td>\n",
       "    </tr>\n",
       "    <tr>\n",
       "      <th>1</th>\n",
       "      <td>0.163834</td>\n",
       "      <td>0.307072</td>\n",
       "      <td>0.126198</td>\n",
       "      <td>-0.35795</td>\n",
       "      <td>-0.207587</td>\n",
       "      <td>-177828.0</td>\n",
       "    </tr>\n",
       "  </tbody>\n",
       "</table>\n",
       "</div>"
      ],
      "text/plain": [
       "         L1        L2        L3       L4        L5       M12\n",
       "0  0.163834  0.307072  0.126198 -0.35795 -0.207587 -173780.0\n",
       "1  0.163834  0.307072  0.126198 -0.35795 -0.207587 -177828.0"
      ]
     },
     "execution_count": 10,
     "metadata": {},
     "output_type": "execute_result"
    }
   ],
   "source": [
    "xd0[:2]"
   ]
  },
  {
   "cell_type": "code",
   "execution_count": 7,
   "metadata": {},
   "outputs": [],
   "source": [
    "import pyslha\n",
    "import pyTHDM_LesHouches_generator\n",
    "import sys"
   ]
  },
  {
   "cell_type": "markdown",
   "metadata": {},
   "source": [
    "Cambiar valores dentro del archivo LesHouches"
   ]
  },
  {
   "cell_type": "code",
   "execution_count": 13,
   "metadata": {},
   "outputs": [
    {
     "data": {
      "text/html": [
       "<div>\n",
       "<table border=\"1\" class=\"dataframe\">\n",
       "  <thead>\n",
       "    <tr style=\"text-align: right;\">\n",
       "      <th></th>\n",
       "      <th>L1</th>\n",
       "      <th>L2</th>\n",
       "      <th>L3</th>\n",
       "      <th>L4</th>\n",
       "      <th>L5</th>\n",
       "      <th>M12</th>\n",
       "    </tr>\n",
       "  </thead>\n",
       "  <tbody>\n",
       "    <tr>\n",
       "      <th>0</th>\n",
       "      <td>0.163834</td>\n",
       "      <td>0.307072</td>\n",
       "      <td>0.126198</td>\n",
       "      <td>-0.35795</td>\n",
       "      <td>-0.207587</td>\n",
       "      <td>-173780.0</td>\n",
       "    </tr>\n",
       "    <tr>\n",
       "      <th>1</th>\n",
       "      <td>0.163834</td>\n",
       "      <td>0.307072</td>\n",
       "      <td>0.126198</td>\n",
       "      <td>-0.35795</td>\n",
       "      <td>-0.207587</td>\n",
       "      <td>-177828.0</td>\n",
       "    </tr>\n",
       "    <tr>\n",
       "      <th>2</th>\n",
       "      <td>0.163834</td>\n",
       "      <td>0.307072</td>\n",
       "      <td>0.126198</td>\n",
       "      <td>-0.35795</td>\n",
       "      <td>-0.207587</td>\n",
       "      <td>-181970.0</td>\n",
       "    </tr>\n",
       "  </tbody>\n",
       "</table>\n",
       "</div>"
      ],
      "text/plain": [
       "         L1        L2        L3       L4        L5       M12\n",
       "0  0.163834  0.307072  0.126198 -0.35795 -0.207587 -173780.0\n",
       "1  0.163834  0.307072  0.126198 -0.35795 -0.207587 -177828.0\n",
       "2  0.163834  0.307072  0.126198 -0.35795 -0.207587 -181970.0"
      ]
     },
     "execution_count": 13,
     "metadata": {},
     "output_type": "execute_result"
    }
   ],
   "source": [
    "xd0[:3]"
   ]
  },
  {
   "cell_type": "code",
   "execution_count": 14,
   "metadata": {},
   "outputs": [
    {
     "name": "stdout",
     "output_type": "stream",
     "text": [
      "0.163834\n",
      "0.163834\n",
      "0.163834\n"
     ]
    }
   ],
   "source": [
    "for i in range(0,3):\n",
    "    print(xd0['L1'][i])"
   ]
  },
  {
   "cell_type": "markdown",
   "metadata": {},
   "source": [
    "cantidad de datos"
   ]
  },
  {
   "cell_type": "code",
   "execution_count": 23,
   "metadata": {},
   "outputs": [
    {
     "data": {
      "text/plain": [
       "(630, 6)"
      ]
     },
     "execution_count": 23,
     "metadata": {},
     "output_type": "execute_result"
    }
   ],
   "source": [
    "xd0.shape"
   ]
  },
  {
   "cell_type": "code",
   "execution_count": 24,
   "metadata": {},
   "outputs": [
    {
     "data": {
      "text/plain": [
       "630"
      ]
     },
     "execution_count": 24,
     "metadata": {},
     "output_type": "execute_result"
    }
   ],
   "source": [
    "xd0.shape[0]"
   ]
  },
  {
   "cell_type": "code",
   "execution_count": 26,
   "metadata": {},
   "outputs": [],
   "source": [
    "x=[]\n",
    "\n",
    "Num = 5\n",
    "#Num = xd0.shape[0]\n",
    "\n",
    "for i in range (0,Num):\n",
    "       \n",
    "    L1 = xd0['L1'][i] \n",
    "    L2 = xd0['L2'][i]\n",
    "    L3 = xd0['L3'][i]\n",
    "    L4 = xd0['L4'][i]\n",
    "    L5 = xd0['L5'][i]\n",
    "    M12 = xd0['M12'][i]\n",
    "    tb = 2.00569\n",
    "\n",
    "    #Open the file that will created the LesHouches file\n",
    "    xdict = pyTHDM_LesHouches_generator.buildSLHAinFile()\n",
    "\n",
    "    xdict.blocks['MINPAR'].entries[1]='%.6E    # Lambda1Input'%L1\n",
    "    xdict.blocks['MINPAR'].entries[2]='%.6E    # Lambda2Input'%L2\n",
    "    xdict.blocks['MINPAR'].entries[3]='%.6E    # Lambda3Input'%L3\n",
    "    xdict.blocks['MINPAR'].entries[4]='%.6E    # Lambda4Input'%L4\n",
    "    xdict.blocks['MINPAR'].entries[5]='%.6E    # Lambda5Input'%L5\n",
    "    xdict.blocks['MINPAR'].entries[9]='%.6E    # M12inputt'%M12\n",
    "    xdict.blocks['MINPAR'].entries[10]='%.6E    # TanBeta' %tb\n",
    "\n",
    "    #Write and created the Leshouches file generator\n",
    "    pyslha.writeSLHAFile('LesHouches.in.THDMII_low',xdict)  \n",
    "\n",
    "    #run SPheno\n",
    "    spheno = subprocess.getoutput('~/tmp/SPheno-4.0.4/bin/./SPhenoTHDMII LesHouches.in.THDMII_low')    \n",
    "    SPheno_output = subprocess.getoutput('cat SPheno.spc.THDMII')\n",
    "\n",
    "    #capturo algo de spheno\n",
    "\n",
    "    #MASAS\n",
    "    mh1 = eval(SPheno_output.split('#   PDG code')[1].split()[3])\n",
    "    mh2 = eval(SPheno_output.split('#   PDG code')[1].split()[7])\n",
    "    mAh = eval(SPheno_output.split('#   PDG code')[1].split()[11])\n",
    "    mHm = eval(SPheno_output.split('#   PDG code')[1].split()[15])\n",
    "    #print(\"========== MASAS ==============\")\n",
    "    #print(\"mh1=\",mh1,\"mh2=\",mh2,\"mAh=\",mAh,\"mHm=\",mHm)\n",
    "    #print(\"===============================\\n\")\n",
    "\n",
    "    #Couplings\n",
    "    h1bb = eval(SPheno_output.split('HiggsBoundsInputHiggsCouplingsFermions')[1].split()[1])\n",
    "    h1tt = eval(SPheno_output.split('# h_1 s s coupling')[1].split()[0])\n",
    "    h1tautau = eval(SPheno_output.split('# h_1 c c coupling')[1].split()[0])\n",
    "    #print(\"============ Couplings ================\")\n",
    "    #print(\"chbb=\",h1bb,\"chtt=\",h1tt,\"chtautau=\",h1tautau)\n",
    "    #print(\"============================\\n\")\n",
    "\n",
    "    #RUN Higgsbounds\n",
    "\n",
    "    #copio los archivos a la carpeta Input_files\n",
    "    subprocess.getoutput('cp Messages.out effC.dat BR* Key.dat LEP* LesHouches.in.THDMII_low MH* SPheno.spc.THDMII Input_Files/')\n",
    "    #run HiggsBounds\n",
    "    hb = subprocess.getoutput('~/Work/HiggsBounds-4.3.1/./HiggsBounds LandH effC 3 1 ~/Work/Documents_compartidos/THDM-II/Input_Files/')\n",
    "\n",
    "    #Capturo lo que necesito del archivo de resultados\n",
    "    HB_results = subprocess.getoutput('cat Input_Files/HiggsBounds_results.dat')\n",
    "    HBresult = eval(HB_results.split('cols:')[1].split()[15])\n",
    "    #print(\"HBresult=\",HBresult)\n",
    "    \n",
    "    x.append([L1,L2,L3,L4,L5,M12,tb,mh1,mh2,mAh,mHm,h1bb,h1tt,h1tautau,HBresult])\n",
    "\n",
    "x=np.asarray(x)\n",
    "xd=pd.DataFrame(x,columns=['L1','L2','L3','L4','L5','M12','tb','mh1','mh2','mAh','mHm','h1bb','h1tt','h1tautau','HBresult'])   "
   ]
  },
  {
   "cell_type": "code",
   "execution_count": 28,
   "metadata": {},
   "outputs": [
    {
     "data": {
      "text/html": [
       "<div>\n",
       "<table border=\"1\" class=\"dataframe\">\n",
       "  <thead>\n",
       "    <tr style=\"text-align: right;\">\n",
       "      <th></th>\n",
       "      <th>L1</th>\n",
       "      <th>L2</th>\n",
       "      <th>L3</th>\n",
       "      <th>L4</th>\n",
       "      <th>L5</th>\n",
       "      <th>M12</th>\n",
       "      <th>tb</th>\n",
       "      <th>mh1</th>\n",
       "      <th>mh2</th>\n",
       "      <th>mAh</th>\n",
       "      <th>mHm</th>\n",
       "      <th>h1bb</th>\n",
       "      <th>h1tt</th>\n",
       "      <th>h1tautau</th>\n",
       "      <th>HBresult</th>\n",
       "    </tr>\n",
       "  </thead>\n",
       "  <tbody>\n",
       "    <tr>\n",
       "      <th>0</th>\n",
       "      <td>0.163834</td>\n",
       "      <td>0.307072</td>\n",
       "      <td>0.126198</td>\n",
       "      <td>-0.35795</td>\n",
       "      <td>-0.207587</td>\n",
       "      <td>-173780.0</td>\n",
       "      <td>2.00569</td>\n",
       "      <td>123.925494</td>\n",
       "      <td>673.204942</td>\n",
       "      <td>669.048957</td>\n",
       "      <td>672.405967</td>\n",
       "      <td>1.075055</td>\n",
       "      <td>0.980451</td>\n",
       "      <td>1.075055</td>\n",
       "      <td>1.0</td>\n",
       "    </tr>\n",
       "    <tr>\n",
       "      <th>1</th>\n",
       "      <td>0.163834</td>\n",
       "      <td>0.307072</td>\n",
       "      <td>0.126198</td>\n",
       "      <td>-0.35795</td>\n",
       "      <td>-0.207587</td>\n",
       "      <td>-177828.0</td>\n",
       "      <td>2.00569</td>\n",
       "      <td>123.982531</td>\n",
       "      <td>680.682044</td>\n",
       "      <td>676.582440</td>\n",
       "      <td>679.902254</td>\n",
       "      <td>1.073374</td>\n",
       "      <td>0.980909</td>\n",
       "      <td>1.073374</td>\n",
       "      <td>1.0</td>\n",
       "    </tr>\n",
       "    <tr>\n",
       "      <th>2</th>\n",
       "      <td>0.163834</td>\n",
       "      <td>0.307072</td>\n",
       "      <td>0.126198</td>\n",
       "      <td>-0.35795</td>\n",
       "      <td>-0.207587</td>\n",
       "      <td>-181970.0</td>\n",
       "      <td>2.00569</td>\n",
       "      <td>124.038260</td>\n",
       "      <td>688.249167</td>\n",
       "      <td>684.205007</td>\n",
       "      <td>687.488013</td>\n",
       "      <td>1.071731</td>\n",
       "      <td>0.981356</td>\n",
       "      <td>1.071731</td>\n",
       "      <td>1.0</td>\n",
       "    </tr>\n",
       "    <tr>\n",
       "      <th>3</th>\n",
       "      <td>0.163834</td>\n",
       "      <td>0.307072</td>\n",
       "      <td>0.126198</td>\n",
       "      <td>-0.35795</td>\n",
       "      <td>-0.207587</td>\n",
       "      <td>-186209.0</td>\n",
       "      <td>2.00569</td>\n",
       "      <td>124.092720</td>\n",
       "      <td>695.908766</td>\n",
       "      <td>691.919141</td>\n",
       "      <td>695.165718</td>\n",
       "      <td>1.070124</td>\n",
       "      <td>0.981791</td>\n",
       "      <td>1.070124</td>\n",
       "      <td>1.0</td>\n",
       "    </tr>\n",
       "    <tr>\n",
       "      <th>4</th>\n",
       "      <td>0.163834</td>\n",
       "      <td>0.307072</td>\n",
       "      <td>0.126198</td>\n",
       "      <td>-0.35795</td>\n",
       "      <td>-0.207587</td>\n",
       "      <td>-190546.0</td>\n",
       "      <td>2.00569</td>\n",
       "      <td>124.145924</td>\n",
       "      <td>703.659597</td>\n",
       "      <td>699.723605</td>\n",
       "      <td>702.934137</td>\n",
       "      <td>1.068552</td>\n",
       "      <td>0.982217</td>\n",
       "      <td>1.068552</td>\n",
       "      <td>1.0</td>\n",
       "    </tr>\n",
       "  </tbody>\n",
       "</table>\n",
       "</div>"
      ],
      "text/plain": [
       "         L1        L2        L3       L4        L5       M12       tb  \\\n",
       "0  0.163834  0.307072  0.126198 -0.35795 -0.207587 -173780.0  2.00569   \n",
       "1  0.163834  0.307072  0.126198 -0.35795 -0.207587 -177828.0  2.00569   \n",
       "2  0.163834  0.307072  0.126198 -0.35795 -0.207587 -181970.0  2.00569   \n",
       "3  0.163834  0.307072  0.126198 -0.35795 -0.207587 -186209.0  2.00569   \n",
       "4  0.163834  0.307072  0.126198 -0.35795 -0.207587 -190546.0  2.00569   \n",
       "\n",
       "          mh1         mh2         mAh         mHm      h1bb      h1tt  \\\n",
       "0  123.925494  673.204942  669.048957  672.405967  1.075055  0.980451   \n",
       "1  123.982531  680.682044  676.582440  679.902254  1.073374  0.980909   \n",
       "2  124.038260  688.249167  684.205007  687.488013  1.071731  0.981356   \n",
       "3  124.092720  695.908766  691.919141  695.165718  1.070124  0.981791   \n",
       "4  124.145924  703.659597  699.723605  702.934137  1.068552  0.982217   \n",
       "\n",
       "   h1tautau  HBresult  \n",
       "0  1.075055       1.0  \n",
       "1  1.073374       1.0  \n",
       "2  1.071731       1.0  \n",
       "3  1.070124       1.0  \n",
       "4  1.068552       1.0  "
      ]
     },
     "execution_count": 28,
     "metadata": {},
     "output_type": "execute_result"
    }
   ],
   "source": [
    "xd"
   ]
  },
  {
   "cell_type": "code",
   "execution_count": 29,
   "metadata": {},
   "outputs": [],
   "source": [
    "xd.to_csv('salida.csv')"
   ]
  },
  {
   "cell_type": "code",
   "execution_count": null,
   "metadata": {},
   "outputs": [],
   "source": []
  },
  {
   "cell_type": "code",
   "execution_count": null,
   "metadata": {},
   "outputs": [],
   "source": []
  },
  {
   "cell_type": "code",
   "execution_count": 31,
   "metadata": {},
   "outputs": [
    {
     "name": "stdout",
     "output_type": "stream",
     "text": [
      "========== MASAS ==============\n",
      "mh1= 120.444966 mh2= 478.73116 mAh= 485.783658 mHm= 475.195829\n",
      "===============================\n",
      "\n",
      "============ Couplings ================\n",
      "chbb= 1.14038173 chtt= 0.9619293 chtautau= 1.14038173\n",
      "============================\n",
      "\n",
      "HBresult= 0\n"
     ]
    }
   ],
   "source": [
    "#old\n",
    "#Open the file that will created the LesHouches file\n",
    "xdict = pyTHDM_LesHouches_generator.buildSLHAinFile()\n",
    "\n",
    "#Created a benchmark point                                                                            \n",
    "L1 = 0.121124\n",
    "L2 = 0.288218\n",
    "L3 = 0.049769\n",
    "L4 = -0.0415422\n",
    "L5 = -0.381272\n",
    "M12 = -85113.8\n",
    "tb = 2.00569\n",
    "\n",
    "xdict.blocks['MINPAR'].entries[1]='%.6E    # Lambda1Input'%L1\n",
    "xdict.blocks['MINPAR'].entries[2]='%.6E    # Lambda2Input'%L2\n",
    "xdict.blocks['MINPAR'].entries[3]='%.6E    # Lambda3Input'%L3\n",
    "xdict.blocks['MINPAR'].entries[4]='%.6E    # Lambda4Input'%L4\n",
    "xdict.blocks['MINPAR'].entries[5]='%.6E    # Lambda5Input'%L5\n",
    "xdict.blocks['MINPAR'].entries[9]='%.6E    # M12inputt'%M12\n",
    "xdict.blocks['MINPAR'].entries[10]='%.6E    # TanBeta' %tb\n",
    "\n",
    "#Write and created the Leshouches file generator\n",
    "pyslha.writeSLHAFile('LesHouches.in.THDMII_low',xdict)  \n",
    "\n",
    "#run SPheno\n",
    "spheno = subprocess.getoutput('~/tmp/SPheno-4.0.4/bin/./SPhenoTHDMII LesHouches.in.THDMII_low')    \n",
    "SPheno_output = subprocess.getoutput('cat SPheno.spc.THDMII')\n",
    "\n",
    "#capturo algo de spheno\n",
    "\n",
    "#MASAS\n",
    "mh1 = eval(SPheno_output.split('#   PDG code')[1].split()[3])\n",
    "mh2 = eval(SPheno_output.split('#   PDG code')[1].split()[7])\n",
    "mAh = eval(SPheno_output.split('#   PDG code')[1].split()[11])\n",
    "mHm = eval(SPheno_output.split('#   PDG code')[1].split()[15])\n",
    "print(\"========== MASAS ==============\")\n",
    "print(\"mh1=\",mh1,\"mh2=\",mh2,\"mAh=\",mAh,\"mHm=\",mHm)\n",
    "print(\"===============================\\n\")\n",
    "\n",
    "#Couplings\n",
    "h1bb = eval(SPheno_output.split('HiggsBoundsInputHiggsCouplingsFermions')[1].split()[1])\n",
    "h1tt = eval(SPheno_output.split('# h_1 s s coupling')[1].split()[0])\n",
    "h1tautau = eval(SPheno_output.split('# h_1 c c coupling')[1].split()[0])\n",
    "print(\"============ Couplings ================\")\n",
    "print(\"chbb=\",h1bb,\"chtt=\",h1tt,\"chtautau=\",h1tautau)\n",
    "print(\"============================\\n\")\n",
    "\n",
    "#RUN Higgsbounds\n",
    "\n",
    "#copio los archivos a la carpeta Input_files\n",
    "subprocess.getoutput('cp Messages.out effC.dat BR* Key.dat LEP* LesHouches.in.THDMII_low MH* SPheno.spc.THDMII Input_Files/')\n",
    "#run HiggsBounds\n",
    "hb = subprocess.getoutput('~/Work/HiggsBounds-5.3.2beta/./HiggsBounds LandH effC 3 1 ~/Work/Documents_compartidos/THDM-II/Input_Files/')\n",
    "\n",
    "#Capturo lo que necesito del archivo de resultados\n",
    "HB_results = subprocess.getoutput('cat Input_Files/HiggsBounds_results.dat')\n",
    "HBresult = eval(HB_results.split('cols:')[1].split()[15])\n",
    "print(\"HBresult=\",HBresult)\n"
   ]
  },
  {
   "cell_type": "code",
   "execution_count": 32,
   "metadata": {},
   "outputs": [],
   "source": [
    "hb = subprocess.getoutput('~/Work/HiggsBounds-5.3.2beta/./HiggsBounds LandH effC 3 1 ~/Work/Documents_compartidos/THDM-II/Input_Files/')\n"
   ]
  },
  {
   "cell_type": "code",
   "execution_count": 34,
   "metadata": {},
   "outputs": [
    {
     "data": {
      "text/plain": [
       "['',\n",
       " ' ~~~~~~~~~~~~~~~~~~~~~~~~~~~~~~~~~~~~~~~~~~~~~~~~~~~~~~~~~~',\n",
       " ' ~                                                        ~',\n",
       " ' ~                   HiggsBounds 5.3.2beta                ~',\n",
       " ' ~                                                        ~',\n",
       " ' ~     Philip Bechtle, Daniel Dercks, Sven Heinemeyer,    ~',\n",
       " ' ~      Tobias Klingl, Tim Stefaniak, Georg Weiglein      ~',\n",
       " ' ~                                                        ~',\n",
       " ' ~            arXiv:0811.4169, arXiv:1102.1898,           ~',\n",
       " ' ~            arXiv:1301.2345, arXiv:1311.0055            ~',\n",
       " ' ~            arXiv:1507.06706,                           ~',\n",
       " ' ~            http://higgsbounds.hepforge.org             ~',\n",
       " ' ~                                                        ~',\n",
       " ' ~~~~~~~~~~~~~~~~~~~~~~~~~~~~~~~~~~~~~~~~~~~~~~~~~~~~~~~~~~',\n",
       " '',\n",
       " ' HiggsBounds collects together results from ',\n",
       " '',\n",
       " '     * the LEP collaborations and LEP Higgs Working Group',\n",
       " '     * the CDF and D0 Collaborations',\n",
       " '     * the ATLAS and CMS Collaborations',\n",
       " '     * the program HDECAY (arXiv:hep-ph/9704448)',\n",
       " '     * the program VH@NNLO',\n",
       " '       (arXiv:1210.5347,arXiv:1802.04817)',\n",
       " '     * TeV4LHC Higgs Working Group report',\n",
       " '       (see arXiv:hep-ph/0612172 and refs. therein)',\n",
       " '     * LHC Higgs Cross Section Working Group',\n",
       " '       (arXiv:1101.0593, arXiv:1201.3084, arXiv:1307.1347,',\n",
       " '        arXiv:1610.07922 and refs. therein, including the ',\n",
       " '        gluon fusion N3LO prediction (arXiv:1602.00695).)',\n",
       " ' doing some preliminary tasks...',\n",
       " ' ------',\n",
       " ' From command line:',\n",
       " ' prefix:/home/anferivera/Work/Documents_compartidos/THDM-II/Input_Files/',\n",
       " ' ------',\n",
       " ' reading in Standard Model tables...',\n",
       " ' reading in S95tables...',\n",
       " ' reading in likelihoods...',\n",
       " ' sorting out processes to be checked...',\n",
       " ' preparing output arrays...',\n",
       " ' getting theoretical input...',\n",
       " ' The problematic input file is called:',\n",
       " '   /home/anferivera/Work/Documents_compartidos/THDM-II/Input_Files/MHall_uncertainties.dat',\n",
       " ' Optional datafile /home/anferivera/Work/Documents_compartidos/THDM-II/Input_Files/MHall_uncertainties.dat not found. Using default values.',\n",
       " ' wrong no. columns in input file',\n",
       " ' It had          61 columns',\n",
       " ' but should have been          58',\n",
       " ' including line ID number',\n",
       " ' The problematic input file is called:',\n",
       " '   /home/anferivera/Work/Documents_compartidos/THDM-II/Input_Files/effC.dat',\n",
       " 'Note: The following floating-point exceptions are signalling: IEEE_DENORMAL',\n",
       " 'STOP error in input file format (see standard output for filename).']"
      ]
     },
     "execution_count": 34,
     "metadata": {},
     "output_type": "execute_result"
    }
   ],
   "source": [
    "hb.splitlines()"
   ]
  },
  {
   "cell_type": "code",
   "execution_count": null,
   "metadata": {},
   "outputs": [],
   "source": []
  },
  {
   "cell_type": "code",
   "execution_count": null,
   "metadata": {},
   "outputs": [],
   "source": []
  },
  {
   "cell_type": "markdown",
   "metadata": {},
   "source": []
  },
  {
   "cell_type": "code",
   "execution_count": null,
   "metadata": {},
   "outputs": [],
   "source": []
  },
  {
   "cell_type": "code",
   "execution_count": null,
   "metadata": {},
   "outputs": [],
   "source": []
  },
  {
   "cell_type": "code",
   "execution_count": null,
   "metadata": {},
   "outputs": [],
   "source": []
  },
  {
   "cell_type": "code",
   "execution_count": null,
   "metadata": {},
   "outputs": [],
   "source": []
  },
  {
   "cell_type": "code",
   "execution_count": null,
   "metadata": {},
   "outputs": [],
   "source": []
  },
  {
   "cell_type": "code",
   "execution_count": null,
   "metadata": {},
   "outputs": [],
   "source": []
  }
 ],
 "metadata": {
  "kernelspec": {
   "display_name": "Python 3",
   "language": "python",
   "name": "python3"
  },
  "language_info": {
   "codemirror_mode": {
    "name": "ipython",
    "version": 3
   },
   "file_extension": ".py",
   "mimetype": "text/x-python",
   "name": "python",
   "nbconvert_exporter": "python",
   "pygments_lexer": "ipython3",
   "version": "3.5.3"
  }
 },
 "nbformat": 4,
 "nbformat_minor": 1
}

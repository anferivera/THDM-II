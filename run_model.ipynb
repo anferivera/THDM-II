{
 "cells": [
  {
   "cell_type": "markdown",
   "metadata": {},
   "source": [
    "# Run points THDM-II model"
   ]
  },
  {
   "cell_type": "markdown",
   "metadata": {},
   "source": [
    "The idea is run the model"
   ]
  },
  {
   "cell_type": "code",
   "execution_count": 1,
   "metadata": {},
   "outputs": [],
   "source": [
    "import numpy as np\n",
    "import pandas as pd\n",
    "import subprocess\n",
    "import time\n",
    "\n",
    "%matplotlib inline\n",
    "import matplotlib.pyplot as plt "
   ]
  },
  {
   "cell_type": "markdown",
   "metadata": {},
   "source": [
    "Input file:"
   ]
  },
  {
   "cell_type": "code",
   "execution_count": 2,
   "metadata": {},
   "outputs": [],
   "source": [
    "#xd0 = pd.read_csv('L4_Negative_tb_2073.txt')\n",
    "xd0 = pd.read_csv('L4_Positive_tb_2073.txt')"
   ]
  },
  {
   "cell_type": "code",
   "execution_count": 6,
   "metadata": {},
   "outputs": [
    {
     "data": {
      "text/html": [
       "<div>\n",
       "<table border=\"1\" class=\"dataframe\">\n",
       "  <thead>\n",
       "    <tr style=\"text-align: right;\">\n",
       "      <th></th>\n",
       "      <th>L1</th>\n",
       "      <th>L2</th>\n",
       "      <th>L3</th>\n",
       "      <th>L4</th>\n",
       "      <th>L5</th>\n",
       "      <th>M12</th>\n",
       "      <th>tb</th>\n",
       "    </tr>\n",
       "  </thead>\n",
       "  <tbody>\n",
       "    <tr>\n",
       "      <th>0</th>\n",
       "      <td>0.161231</td>\n",
       "      <td>0.30164</td>\n",
       "      <td>0.125743</td>\n",
       "      <td>-0.357056</td>\n",
       "      <td>-0.21088</td>\n",
       "      <td>-107152.0</td>\n",
       "      <td>2.07321</td>\n",
       "    </tr>\n",
       "    <tr>\n",
       "      <th>1</th>\n",
       "      <td>0.161231</td>\n",
       "      <td>0.30164</td>\n",
       "      <td>0.125743</td>\n",
       "      <td>-0.357056</td>\n",
       "      <td>-0.21088</td>\n",
       "      <td>-109648.0</td>\n",
       "      <td>2.07321</td>\n",
       "    </tr>\n",
       "  </tbody>\n",
       "</table>\n",
       "</div>"
      ],
      "text/plain": [
       "         L1       L2        L3        L4       L5       M12       tb\n",
       "0  0.161231  0.30164  0.125743 -0.357056 -0.21088 -107152.0  2.07321\n",
       "1  0.161231  0.30164  0.125743 -0.357056 -0.21088 -109648.0  2.07321"
      ]
     },
     "execution_count": 6,
     "metadata": {},
     "output_type": "execute_result"
    }
   ],
   "source": [
    "xd0[:2]"
   ]
  },
  {
   "cell_type": "code",
   "execution_count": 7,
   "metadata": {},
   "outputs": [
    {
     "data": {
      "text/plain": [
       "507"
      ]
     },
     "execution_count": 7,
     "metadata": {},
     "output_type": "execute_result"
    }
   ],
   "source": [
    "xd0.shape[0]"
   ]
  },
  {
   "cell_type": "code",
   "execution_count": 8,
   "metadata": {},
   "outputs": [],
   "source": [
    "import pyslha\n",
    "import pyTHDM_LesHouches_generator\n",
    "import sys\n",
    "import time"
   ]
  },
  {
   "cell_type": "code",
   "execution_count": 9,
   "metadata": {},
   "outputs": [
    {
     "name": "stdout",
     "output_type": "stream",
     "text": [
      "The program spent 1005.4190645217896 s running 507 times\n"
     ]
    }
   ],
   "source": [
    "# Tiempo inicial\n",
    "t1=time.time() \n",
    "\n",
    "x=[]\n",
    "\n",
    "#Change\n",
    "#Num = 10\n",
    "Num = xd0.shape[0]\n",
    "\n",
    "for i in range (0,Num):\n",
    "       \n",
    "    L1 = xd0['L1'][i] \n",
    "    L2 = xd0['L2'][i]\n",
    "    L3 = xd0['L3'][i]\n",
    "    L4 = xd0['L4'][i]\n",
    "    L5 = xd0['L5'][i]\n",
    "    M12 = xd0['M12'][i]\n",
    "    tb = 2.07321\n",
    "\n",
    "    #Open the file that will created the LesHouches file\n",
    "    xdict = pyTHDM_LesHouches_generator.buildSLHAinFile()\n",
    "\n",
    "    xdict.blocks['MINPAR'].entries[1]='%.6E    # Lambda1Input'%L1\n",
    "    xdict.blocks['MINPAR'].entries[2]='%.6E    # Lambda2Input'%L2\n",
    "    xdict.blocks['MINPAR'].entries[3]='%.6E    # Lambda3Input'%L3\n",
    "    xdict.blocks['MINPAR'].entries[4]='%.6E    # Lambda4Input'%L4\n",
    "    xdict.blocks['MINPAR'].entries[5]='%.6E    # Lambda5Input'%L5\n",
    "    xdict.blocks['MINPAR'].entries[9]='%.6E    # M12inputt'%M12\n",
    "    xdict.blocks['MINPAR'].entries[10]='%.6E    # TanBeta' %tb\n",
    "\n",
    "    #Write and created the Leshouches file generator and closed\n",
    "    pyslha.writeSLHAFile('LesHouches.in.THDMII_low',xdict)  \n",
    "\n",
    "    #run SPheno\n",
    "    spheno = subprocess.getoutput('~/Work/SPheno-4.0.4/bin/SPhenoTHDMII LesHouches.in.THDMII_low')    \n",
    "    SPheno_output = subprocess.getoutput('cat SPheno.spc.THDMII')\n",
    "    \n",
    "    #capturo algo de spheno\n",
    "    #MASAS\n",
    "    mh1 = eval(SPheno_output.split('#   PDG code')[1].split()[3])\n",
    "    mh2 = eval(SPheno_output.split('#   PDG code')[1].split()[7])\n",
    "    mAh = eval(SPheno_output.split('#   PDG code')[1].split()[11])\n",
    "    mHm = eval(SPheno_output.split('#   PDG code')[1].split()[15])\n",
    "    #print(\"========== MASAS ==============\")\n",
    "    #print(\"mh1=\",mh1,\"mh2=\",mh2,\"mAh=\",mAh,\"mHm=\",mHm)\n",
    "    #print(\"===============================\\n\")\n",
    "\n",
    "    #Couplings\n",
    "    h1bb = eval(SPheno_output.split('HiggsCouplingsFermions')[1].split()[1])\n",
    "    h1tt = eval(SPheno_output.split('# h_1 s s coupling')[1].split()[0])\n",
    "    h1tautau = eval(SPheno_output.split('# h_1 c c coupling')[1].split()[0])\n",
    "    h1VV = eval(SPheno_output.split('HiggsCouplingsBosons')[1].split()[1])\n",
    "    \n",
    "    #print(\"============ Couplings ================\")\n",
    "    #print(\"chbb=\",h1bb,\"chtt=\",h1tt,\"chtautau=\",h1tautau,\"hVV=\",h1VV)\n",
    "    #print(\"============================\\n\")\n",
    "    \n",
    "    #RUN Higgsbounds\n",
    "    \n",
    "    #copio los archivos a la carpeta Input_files\n",
    "    subprocess.getoutput('cp Messages.out effC.dat BR* Key.dat LesHouches.in.THDMII_low MH* SPheno.spc.THDMII Input_Files/')\n",
    "    #run HiggsBounds\n",
    "    hb = subprocess.getoutput('~/Work/HiggsBounds-5.3.2beta/./HiggsBounds LandH effC 3 1 ~/Work/Documents_compartidos/THDM-II/Input_Files/')\n",
    "    \n",
    "    #Capturo lo que necesito del archivo de resultados\n",
    "    HB_results = subprocess.getoutput('cat Input_Files/HiggsBounds_results.dat')\n",
    "    HBresult = eval(HB_results.split('cols:')[1].split()[15])\n",
    "    #print(\"HBresult=\",HBresult)\n",
    "    \n",
    "    x.append([L1,L2,L3,L4,L5,M12,tb,mh1,mh2,mAh,mHm,h1bb,h1tt,h1tautau,h1VV,HBresult])\n",
    "\n",
    "x=np.asarray(x)\n",
    "#Write the output\n",
    "xd=pd.DataFrame(x,columns=['L1','L2','L3','L4','L5','M12','tb','mh1','mh2','mAh','mHm','h1bb','h1tt','h1tautau','h1VV','HBresult'])  \n",
    "\n",
    "t2=time.time() \n",
    "print (\"The program spent\", t2-t1, \"s running\",Num,\"times\")   "
   ]
  },
  {
   "cell_type": "code",
   "execution_count": 12,
   "metadata": {},
   "outputs": [
    {
     "data": {
      "text/plain": [
       "16.75283333333333"
      ]
     },
     "execution_count": 12,
     "metadata": {},
     "output_type": "execute_result"
    }
   ],
   "source": [
    "1005.17/60"
   ]
  },
  {
   "cell_type": "code",
   "execution_count": 10,
   "metadata": {},
   "outputs": [
    {
     "data": {
      "text/html": [
       "<div>\n",
       "<table border=\"1\" class=\"dataframe\">\n",
       "  <thead>\n",
       "    <tr style=\"text-align: right;\">\n",
       "      <th></th>\n",
       "      <th>L1</th>\n",
       "      <th>L2</th>\n",
       "      <th>L3</th>\n",
       "      <th>L4</th>\n",
       "      <th>L5</th>\n",
       "      <th>M12</th>\n",
       "      <th>tb</th>\n",
       "      <th>mh1</th>\n",
       "      <th>mh2</th>\n",
       "      <th>mAh</th>\n",
       "      <th>mHm</th>\n",
       "      <th>h1bb</th>\n",
       "      <th>h1tt</th>\n",
       "      <th>h1tautau</th>\n",
       "      <th>h1VV</th>\n",
       "      <th>HBresult</th>\n",
       "    </tr>\n",
       "  </thead>\n",
       "  <tbody>\n",
       "    <tr>\n",
       "      <th>0</th>\n",
       "      <td>0.161231</td>\n",
       "      <td>0.30164</td>\n",
       "      <td>0.125743</td>\n",
       "      <td>-0.357056</td>\n",
       "      <td>-0.21088</td>\n",
       "      <td>-107152.0</td>\n",
       "      <td>2.07321</td>\n",
       "      <td>124.675187</td>\n",
       "      <td>540.045492</td>\n",
       "      <td>535.366426</td>\n",
       "      <td>539.488775</td>\n",
       "      <td>1.123765</td>\n",
       "      <td>0.968941</td>\n",
       "      <td>1.123765</td>\n",
       "      <td>0.998163</td>\n",
       "      <td>1.0</td>\n",
       "    </tr>\n",
       "    <tr>\n",
       "      <th>1</th>\n",
       "      <td>0.161231</td>\n",
       "      <td>0.30164</td>\n",
       "      <td>0.125743</td>\n",
       "      <td>-0.357056</td>\n",
       "      <td>-0.21088</td>\n",
       "      <td>-109648.0</td>\n",
       "      <td>2.07321</td>\n",
       "      <td>124.766931</td>\n",
       "      <td>545.898260</td>\n",
       "      <td>541.290932</td>\n",
       "      <td>545.368500</td>\n",
       "      <td>1.121020</td>\n",
       "      <td>0.969681</td>\n",
       "      <td>1.121020</td>\n",
       "      <td>0.998245</td>\n",
       "      <td>1.0</td>\n",
       "    </tr>\n",
       "  </tbody>\n",
       "</table>\n",
       "</div>"
      ],
      "text/plain": [
       "         L1       L2        L3        L4       L5       M12       tb  \\\n",
       "0  0.161231  0.30164  0.125743 -0.357056 -0.21088 -107152.0  2.07321   \n",
       "1  0.161231  0.30164  0.125743 -0.357056 -0.21088 -109648.0  2.07321   \n",
       "\n",
       "          mh1         mh2         mAh         mHm      h1bb      h1tt  \\\n",
       "0  124.675187  540.045492  535.366426  539.488775  1.123765  0.968941   \n",
       "1  124.766931  545.898260  541.290932  545.368500  1.121020  0.969681   \n",
       "\n",
       "   h1tautau      h1VV  HBresult  \n",
       "0  1.123765  0.998163       1.0  \n",
       "1  1.121020  0.998245       1.0  "
      ]
     },
     "execution_count": 10,
     "metadata": {},
     "output_type": "execute_result"
    }
   ],
   "source": [
    "xd[:2]"
   ]
  },
  {
   "cell_type": "markdown",
   "metadata": {},
   "source": [
    "save output file:"
   ]
  },
  {
   "cell_type": "code",
   "execution_count": 11,
   "metadata": {},
   "outputs": [],
   "source": [
    "#xd.to_csv('L4_Negative_tb_2073_output.csv')\n",
    "#xd.to_csv('L4_Positive_tb_2073_output.csv')"
   ]
  },
  {
   "cell_type": "code",
   "execution_count": 14,
   "metadata": {},
   "outputs": [
    {
     "data": {
      "text/plain": [
       "(507, 7)"
      ]
     },
     "execution_count": 14,
     "metadata": {},
     "output_type": "execute_result"
    }
   ],
   "source": [
    "xd0.shape"
   ]
  },
  {
   "cell_type": "code",
   "execution_count": null,
   "metadata": {},
   "outputs": [],
   "source": []
  },
  {
   "cell_type": "code",
   "execution_count": null,
   "metadata": {},
   "outputs": [],
   "source": []
  },
  {
   "cell_type": "code",
   "execution_count": null,
   "metadata": {},
   "outputs": [],
   "source": []
  },
  {
   "cell_type": "code",
   "execution_count": null,
   "metadata": {},
   "outputs": [],
   "source": []
  }
 ],
 "metadata": {
  "kernelspec": {
   "display_name": "Python 3",
   "language": "python",
   "name": "python3"
  },
  "language_info": {
   "codemirror_mode": {
    "name": "ipython",
    "version": 3
   },
   "file_extension": ".py",
   "mimetype": "text/x-python",
   "name": "python",
   "nbconvert_exporter": "python",
   "pygments_lexer": "ipython3",
   "version": "3.5.3"
  }
 },
 "nbformat": 4,
 "nbformat_minor": 1
}

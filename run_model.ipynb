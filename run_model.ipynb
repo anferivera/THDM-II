{
 "cells": [
  {
   "cell_type": "markdown",
   "metadata": {},
   "source": [
    "# run THDM-II model"
   ]
  },
  {
   "cell_type": "markdown",
   "metadata": {},
   "source": [
    "The idea is run the model"
   ]
  },
  {
   "cell_type": "code",
   "execution_count": 1,
   "metadata": {},
   "outputs": [],
   "source": [
    "import numpy as np\n",
    "import pandas as pd\n",
    "import subprocess\n",
    "import time\n",
    "\n",
    "%matplotlib inline\n",
    "import matplotlib.pyplot as plt "
   ]
  },
  {
   "cell_type": "code",
   "execution_count": 2,
   "metadata": {},
   "outputs": [],
   "source": [
    "import pyslha\n",
    "import pyTHDM_LesHouches_generator\n",
    "import sys"
   ]
  },
  {
   "cell_type": "markdown",
   "metadata": {},
   "source": [
    "Cambiar valores dentro del archivo LesHouches"
   ]
  },
  {
   "cell_type": "code",
   "execution_count": 61,
   "metadata": {},
   "outputs": [
    {
     "name": "stdout",
     "output_type": "stream",
     "text": [
      "========== MASAS ==============\n",
      "mh1= 123.596705 mh2= 482.466725 mAh= 490.048548 mHm= 479.554884\n",
      "===============================\n",
      "\n",
      "============ Couplings ================\n",
      "chbb= 1.14377008 chtt= 0.963367851 chtautau= 1.14377008\n",
      "============================\n",
      "\n",
      "HBresult= 1\n"
     ]
    }
   ],
   "source": [
    "#Open the file that will created the LesHouches file\n",
    "xdict = pyTHDM_LesHouches_generator.buildSLHAinFile()\n",
    "\n",
    "#Created a benchmark point                                                                            \n",
    "'''\n",
    "L1 = 0.249746/2.\n",
    "L2 = 0.579478/2.\n",
    "L3 = 0.0519579\n",
    "L4 = 0.00285079\n",
    "L5 = -0.336346\n",
    "M12 = 1.0e-4\n",
    "tb = 2.0701\n",
    "'''\n",
    "L1 = 0.121124\n",
    "L2 = 0.288218\n",
    "L3 = 0.049769\n",
    "L4 = -0.0415422\n",
    "L5 = -0.381272\n",
    "M12 = -85113.8\n",
    "tb = 2.0701\n",
    "\n",
    "xdict.blocks['MINPAR'].entries[1]='%.6E    # Lambda1Input'%L1\n",
    "xdict.blocks['MINPAR'].entries[2]='%.6E    # Lambda2Input'%L2\n",
    "xdict.blocks['MINPAR'].entries[3]='%.6E    # Lambda3Input'%L3\n",
    "xdict.blocks['MINPAR'].entries[4]='%.6E    # Lambda4Input'%L4\n",
    "xdict.blocks['MINPAR'].entries[5]='%.6E    # Lambda5Input'%L5\n",
    "xdict.blocks['MINPAR'].entries[9]='%.6E    # M12inputt'%M12\n",
    "xdict.blocks['MINPAR'].entries[10]='%.6E    # TanBeta' %tb\n",
    "\n",
    "#Write and created the Leshouches file generator\n",
    "pyslha.writeSLHAFile('LesHouches.in.THDMII_low',xdict)  \n",
    "\n",
    "#run SPheno\n",
    "spheno = subprocess.getoutput('~/tmp/SPheno-4.0.4/bin/./SPhenoTHDMII LesHouches.in.THDMII_low')    \n",
    "SPheno_output = subprocess.getoutput('cat SPheno.spc.THDMII')\n",
    "\n",
    "#capturo algo de spheno\n",
    "\n",
    "#MASAS\n",
    "mh1 = eval(SPheno_output.split('#   PDG code')[1].split()[3])\n",
    "mh2 = eval(SPheno_output.split('#   PDG code')[1].split()[7])\n",
    "mAh = eval(SPheno_output.split('#   PDG code')[1].split()[11])\n",
    "mHm = eval(SPheno_output.split('#   PDG code')[1].split()[15])\n",
    "print(\"========== MASAS ==============\")\n",
    "print(\"mh1=\",mh1,\"mh2=\",mh2,\"mAh=\",mAh,\"mHm=\",mHm)\n",
    "print(\"===============================\\n\")\n",
    "\n",
    "#Couplings\n",
    "h1bb = eval(SPheno_output.split('HiggsBoundsInputHiggsCouplingsFermions')[1].split()[1])\n",
    "h1tt = eval(SPheno_output.split('# h_1 s s coupling')[1].split()[0])\n",
    "h1tautau = eval(SPheno_output.split('# h_1 c c coupling')[1].split()[0])\n",
    "print(\"============ Couplings ================\")\n",
    "print(\"chbb=\",h1bb,\"chtt=\",h1tt,\"chtautau=\",h1tautau)\n",
    "print(\"============================\\n\")\n",
    "\n",
    "#RUN Higgsbounds\n",
    "\n",
    "#copio los archivos a la carpeta Input_files\n",
    "subprocess.getoutput('cp Messages.out effC.dat BR* Key.dat LEP* LesHouches.in.THDMII_low MH* SPheno.spc.THDMII Input_Files/')\n",
    "#run HiggsBounds\n",
    "hb = subprocess.getoutput('~/Work/HiggsBounds-4.3.1/./HiggsBounds LandH effC 3 1 ~/Work/Documents_compartidos/THDM-II/Input_Files/')\n",
    "\n",
    "#Capturo lo que necesito del archivo de resultados\n",
    "HB_results = subprocess.getoutput('cat Input_Files/HiggsBounds_results.dat')\n",
    "HBresult = eval(HB_results.split('cols:')[1].split()[15])\n",
    "print(\"HBresult=\",HBresult)\n"
   ]
  },
  {
   "cell_type": "code",
   "execution_count": null,
   "metadata": {},
   "outputs": [],
   "source": []
  },
  {
   "cell_type": "code",
   "execution_count": null,
   "metadata": {},
   "outputs": [],
   "source": []
  },
  {
   "cell_type": "markdown",
   "metadata": {},
   "source": []
  },
  {
   "cell_type": "code",
   "execution_count": null,
   "metadata": {},
   "outputs": [],
   "source": []
  },
  {
   "cell_type": "code",
   "execution_count": null,
   "metadata": {},
   "outputs": [],
   "source": []
  },
  {
   "cell_type": "code",
   "execution_count": null,
   "metadata": {},
   "outputs": [],
   "source": []
  },
  {
   "cell_type": "code",
   "execution_count": null,
   "metadata": {},
   "outputs": [],
   "source": []
  },
  {
   "cell_type": "code",
   "execution_count": null,
   "metadata": {},
   "outputs": [],
   "source": []
  },
  {
   "cell_type": "code",
   "execution_count": null,
   "metadata": {},
   "outputs": [],
   "source": []
  }
 ],
 "metadata": {
  "kernelspec": {
   "display_name": "Python 3",
   "language": "python",
   "name": "python3"
  },
  "language_info": {
   "codemirror_mode": {
    "name": "ipython",
    "version": 3
   },
   "file_extension": ".py",
   "mimetype": "text/x-python",
   "name": "python",
   "nbconvert_exporter": "python",
   "pygments_lexer": "ipython3",
   "version": "3.5.3"
  }
 },
 "nbformat": 4,
 "nbformat_minor": 1
}
